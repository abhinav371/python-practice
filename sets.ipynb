{
  "nbformat": 4,
  "nbformat_minor": 0,
  "metadata": {
    "colab": {
      "name": "sets.ipynb",
      "provenance": [],
      "authorship_tag": "ABX9TyMmAgP4uAA4ftQHsvKqiXIZ",
      "include_colab_link": true
    },
    "kernelspec": {
      "name": "python3",
      "display_name": "Python 3"
    },
    "language_info": {
      "name": "python"
    }
  },
  "cells": [
    {
      "cell_type": "markdown",
      "metadata": {
        "id": "view-in-github",
        "colab_type": "text"
      },
      "source": [
        "<a href=\"https://colab.research.google.com/github/abhinav371/python-practice/blob/Module-1/sets.ipynb\" target=\"_parent\"><img src=\"https://colab.research.google.com/assets/colab-badge.svg\" alt=\"Open In Colab\"/></a>"
      ]
    },
    {
      "cell_type": "code",
      "source": [
        "a={'orange','banana','pineapple','orange'}\n",
        "b={'kiwi','apple','blueberry'}\n",
        "print(a)\n",
        "print(type(a))\n",
        "print(len(a))\n",
        "print('a' in a)\n",
        "a.add('apple')\n",
        "print(a)\n",
        "a.update(b)\n",
        "print(a)\n",
        "a.remove('orange')"
      ],
      "metadata": {
        "colab": {
          "base_uri": "https://localhost:8080/"
        },
        "id": "lIdzPW6Z2D8r",
        "outputId": "97f1404b-70e7-4b1d-b164-ec66a6b6c531"
      },
      "execution_count": 14,
      "outputs": [
        {
          "output_type": "stream",
          "name": "stdout",
          "text": [
            "{'orange', 'pineapple', 'banana'}\n",
            "<class 'set'>\n",
            "3\n",
            "False\n",
            "{'apple', 'orange', 'pineapple', 'banana'}\n",
            "{'blueberry', 'kiwi', 'orange', 'banana', 'pineapple', 'apple'}\n"
          ]
        }
      ]
    },
    {
      "cell_type": "code",
      "source": [
        ""
      ],
      "metadata": {
        "id": "EK_XMskI2UQz"
      },
      "execution_count": null,
      "outputs": []
    }
  ]
}