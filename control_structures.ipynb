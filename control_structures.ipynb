{
  "nbformat": 4,
  "nbformat_minor": 0,
  "metadata": {
    "colab": {
      "name": "control structures.ipynb",
      "provenance": [],
      "authorship_tag": "ABX9TyPtNxZ2RtUSVNZoL25UC1ej",
      "include_colab_link": true
    },
    "kernelspec": {
      "name": "python3",
      "display_name": "Python 3"
    },
    "language_info": {
      "name": "python"
    }
  },
  "cells": [
    {
      "cell_type": "markdown",
      "metadata": {
        "id": "view-in-github",
        "colab_type": "text"
      },
      "source": [
        "<a href=\"https://colab.research.google.com/github/abhinav371/python-practice/blob/Module-1/control_structures.ipynb\" target=\"_parent\"><img src=\"https://colab.research.google.com/assets/colab-badge.svg\" alt=\"Open In Colab\"/></a>"
      ]
    },
    {
      "cell_type": "code",
      "execution_count": 9,
      "metadata": {
        "colab": {
          "base_uri": "https://localhost:8080/"
        },
        "id": "pnD80nCXPkaU",
        "outputId": "c0631b07-8e09-4971-c43f-fa6d69bc593c"
      },
      "outputs": [
        {
          "output_type": "stream",
          "name": "stdout",
          "text": [
            "age : 17\n",
            "not eligible\n"
          ]
        }
      ],
      "source": [
        "#write a python program if a person is eligible for voting or not\n",
        "a=int(input(\"age : \"))\n",
        "if a>=18:\n",
        "    print(\"eligible\")\n",
        "else:\n",
        "    print(\"not eligible\")"
      ]
    },
    {
      "cell_type": "code",
      "source": [
        "#maximum of 3 numbers\n",
        "a=int(input(\"a : \"))\n",
        "b=int(input(\"b : \"))\n",
        "c=int(input(\"c : \"))\n",
        "if (a>b and a>c):\n",
        "  print(\"a is max\")\n",
        "elif (b>a and b>c):\n",
        "  print(\"b is max\")\n",
        "else:\n",
        "  print(\"c is max\")  "
      ],
      "metadata": {
        "colab": {
          "base_uri": "https://localhost:8080/"
        },
        "id": "BOnKa2sNRegl",
        "outputId": "a2058288-d8fc-40ec-a0b7-b4d7b8156feb"
      },
      "execution_count": 13,
      "outputs": [
        {
          "output_type": "stream",
          "name": "stdout",
          "text": [
            "a : 10\n",
            "b : 9\n",
            "c : 4\n",
            "a is max\n"
          ]
        }
      ]
    },
    {
      "cell_type": "code",
      "source": [
        "#graetest marks of 5 subjects\n",
        "a=int(input(\"subject 1 : \"))\n",
        "b=int(input(\"subject 2 : \"))\n",
        "c=int(input(\"subject 3 : \"))\n",
        "d=int(input(\"subject 4 : \"))\n",
        "e=int(input(\"subject 5 : \"))\n",
        "f=max(a,b,c,d,e)\n",
        "print(f)"
      ],
      "metadata": {
        "colab": {
          "base_uri": "https://localhost:8080/"
        },
        "id": "u14Vu_71Ts-c",
        "outputId": "161e0a23-641a-430c-f818-b8d756f7fa88"
      },
      "execution_count": 15,
      "outputs": [
        {
          "output_type": "stream",
          "name": "stdout",
          "text": [
            "subject 1 : 10\n",
            "subject 2 : 20\n",
            "subject 3 : 30\n",
            "subject 4 : 40\n",
            "subject 5 : 50\n",
            "50\n"
          ]
        }
      ]
    },
    {
      "cell_type": "code",
      "source": [
        "#Check whether the triangle is equilateral, isosceles, or scalene triangle\n",
        "a=int(input(\"side 1 : \"))\n",
        "b=int(input(\"side 2 : \"))\n",
        "c=int(input(\"side 3 : \"))\n",
        "if (a==b and b==c and c==a):\n",
        "  print(\"equilateral\")\n",
        "elif (a!=b and b!=c and c!=a):\n",
        "  print(\"scalene\")\n",
        "else:\n",
        "  print(\"isosceles\")  "
      ],
      "metadata": {
        "colab": {
          "base_uri": "https://localhost:8080/"
        },
        "id": "fJY_u9nZV-gN",
        "outputId": "4f4b4442-4cdc-4dc8-d9cc-9d94ec7261e4"
      },
      "execution_count": 17,
      "outputs": [
        {
          "output_type": "stream",
          "name": "stdout",
          "text": [
            "side 1 : 3\n",
            "side 2 : 3\n",
            "side 3 : 3\n",
            "equilateral\n"
          ]
        }
      ]
    },
    {
      "cell_type": "code",
      "source": [
        "#Find minimum among three numbers\n",
        "a=int(input(\"a : \"))\n",
        "b=int(input(\"b : \"))\n",
        "c=int(input(\"c : \"))\n",
        "d=min(a,b,c)\n",
        "print(d)"
      ],
      "metadata": {
        "colab": {
          "base_uri": "https://localhost:8080/"
        },
        "id": "MzcwCSVbXfa9",
        "outputId": "9f95ae1c-bedf-4386-ea4b-bd38468d18f3"
      },
      "execution_count": 18,
      "outputs": [
        {
          "output_type": "stream",
          "name": "stdout",
          "text": [
            "a : 3\n",
            "b : 4\n",
            "c : 5\n",
            "3\n"
          ]
        }
      ]
    },
    {
      "cell_type": "code",
      "source": [
        "#Check whether a number is divisible by 5 and 11 or not\n",
        "a=int(input(\"a : \"))\n",
        "if (a%5==0 and a%11==0):\n",
        "  print(\"divisible\")\n",
        "else:\n",
        "  print(\"not divisible\")"
      ],
      "metadata": {
        "colab": {
          "base_uri": "https://localhost:8080/"
        },
        "id": "HzwDNt6uX7Xm",
        "outputId": "fb320fee-5b8d-477b-c3c3-d8fa435f4aca"
      },
      "execution_count": 21,
      "outputs": [
        {
          "output_type": "stream",
          "name": "stdout",
          "text": [
            "a : 5\n",
            "not divisible\n"
          ]
        }
      ]
    },
    {
      "cell_type": "code",
      "source": [
        "#Check whether entered year is a leap year or not\n",
        "a=int(input(\"year : \"))\n",
        "if (a%400==0):\n",
        "  print(\"leap year\")\n",
        "elif(a%100!=0 and a%4==0):\n",
        "  print(\"leap year\")\n",
        "else:\n",
        "  print(\"not a leap year\")"
      ],
      "metadata": {
        "colab": {
          "base_uri": "https://localhost:8080/"
        },
        "id": "5vKFYHk7ZAcV",
        "outputId": "fb63deb3-1d57-4dbf-d90f-2c50f84e02e5"
      },
      "execution_count": 25,
      "outputs": [
        {
          "output_type": "stream",
          "name": "stdout",
          "text": [
            "year : 2012\n",
            "leap year\n"
          ]
        }
      ]
    },
    {
      "cell_type": "code",
      "source": [
        "#Check whether a number is positive, negative or zero \n",
        "a=int(input(\"a : \"))\n",
        "if (a>0):\n",
        "  print(\"positive\")\n",
        "elif (a<0):\n",
        "  print(\"negative\")\n",
        "else:\n",
        "  print(\"zero\")    "
      ],
      "metadata": {
        "colab": {
          "base_uri": "https://localhost:8080/"
        },
        "id": "zPxY-aSRdzF2",
        "outputId": "ba4b0acc-4e18-4031-e3f2-975b54d35525"
      },
      "execution_count": 28,
      "outputs": [
        {
          "output_type": "stream",
          "name": "stdout",
          "text": [
            "a : -8\n",
            "negative\n"
          ]
        }
      ]
    },
    {
      "cell_type": "code",
      "source": [
        ""
      ],
      "metadata": {
        "id": "4oEbx9AEeo5W"
      },
      "execution_count": null,
      "outputs": []
    }
  ]
}