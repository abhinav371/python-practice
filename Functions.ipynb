{
  "nbformat": 4,
  "nbformat_minor": 0,
  "metadata": {
    "colab": {
      "name": "Functions.ipynb",
      "provenance": [],
      "authorship_tag": "ABX9TyPBRq7sUkImTfn9HbSBQjF9",
      "include_colab_link": true
    },
    "kernelspec": {
      "name": "python3",
      "display_name": "Python 3"
    },
    "language_info": {
      "name": "python"
    }
  },
  "cells": [
    {
      "cell_type": "markdown",
      "metadata": {
        "id": "view-in-github",
        "colab_type": "text"
      },
      "source": [
        "<a href=\"https://colab.research.google.com/github/abhinav371/python-practice/blob/Module-1/Functions.ipynb\" target=\"_parent\"><img src=\"https://colab.research.google.com/assets/colab-badge.svg\" alt=\"Open In Colab\"/></a>"
      ]
    },
    {
      "cell_type": "code",
      "source": [
        "def abhi():\n",
        "  print(\"hi\")\n",
        "  print(\"bye\")\n",
        "  print(\"hello\")\n",
        "abhi()"
      ],
      "metadata": {
        "colab": {
          "base_uri": "https://localhost:8080/"
        },
        "id": "T23g0QIcUf2K",
        "outputId": "e1546693-e838-4e86-a5e3-368041b50fb5"
      },
      "execution_count": null,
      "outputs": [
        {
          "output_type": "stream",
          "name": "stdout",
          "text": [
            "hi\n",
            "bye\n",
            "hello\n"
          ]
        }
      ]
    },
    {
      "cell_type": "code",
      "source": [
        "def abhi(lname):\n",
        "  print(\"abhi\"+lname)\n",
        "abhi(\"nav\")"
      ],
      "metadata": {
        "colab": {
          "base_uri": "https://localhost:8080/"
        },
        "id": "Sbh2t1cdX6mh",
        "outputId": "fb261582-88a1-4749-d2f1-80336c291b5e"
      },
      "execution_count": 20,
      "outputs": [
        {
          "output_type": "stream",
          "name": "stdout",
          "text": [
            "abhinav\n"
          ]
        }
      ]
    },
    {
      "cell_type": "code",
      "source": [
        "def abhi(fname,lname):\n",
        "  print(fname+\" \"+lname)\n",
        "abhi(\"abhi\",\"world is his territory\")"
      ],
      "metadata": {
        "colab": {
          "base_uri": "https://localhost:8080/"
        },
        "id": "n7p2QPlJZHtO",
        "outputId": "ece0c199-9b4a-4174-b423-ee10bb381ea0"
      },
      "execution_count": null,
      "outputs": [
        {
          "output_type": "stream",
          "name": "stdout",
          "text": [
            "abhi world is his territory\n"
          ]
        }
      ]
    },
    {
      "cell_type": "code",
      "source": [
        "def vote(n,a,g):\n",
        "  print(f\"\\n name : {n} \\n age : {a} \\n gender : {g}\")\n",
        "  if a>=18:\n",
        "    print('eligible')\n",
        "  else:\n",
        "    print('not eligible')\n",
        "n=input('name : ')\n",
        "a=int(input('age : '))\n",
        "g=input('gender : ')\n",
        "vote(n,a,g) "
      ],
      "metadata": {
        "id": "oZ1gmwGxbWRH",
        "colab": {
          "base_uri": "https://localhost:8080/"
        },
        "outputId": "75c1b6f0-1219-4fa0-e621-f866450738d7"
      },
      "execution_count": 36,
      "outputs": [
        {
          "output_type": "stream",
          "name": "stdout",
          "text": [
            "name : kush\n",
            "age : 90\n",
            "gender : m\n",
            "\n",
            " name : kush \n",
            " age : 90 \n",
            " gender : m\n",
            "eligible\n"
          ]
        }
      ]
    },
    {
      "cell_type": "markdown",
      "source": [
        "#Python built in functions"
      ],
      "metadata": {
        "id": "MCsrV0UXlMGW"
      }
    },
    {
      "cell_type": "code",
      "source": [
        "#absolute\n",
        "a=abs(-9.76)\n",
        "print(a)"
      ],
      "metadata": {
        "colab": {
          "base_uri": "https://localhost:8080/"
        },
        "id": "YyYz8lsRlRZs",
        "outputId": "02907f79-984d-4a72-b558-e96ed960d258"
      },
      "execution_count": 37,
      "outputs": [
        {
          "output_type": "stream",
          "name": "stdout",
          "text": [
            "9.76\n"
          ]
        }
      ]
    },
    {
      "cell_type": "code",
      "source": [
        "#all\n",
        "a="
      ],
      "metadata": {
        "id": "Kjwwljjulwmu"
      },
      "execution_count": null,
      "outputs": []
    }
  ]
}