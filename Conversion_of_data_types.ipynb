{
  "cells": [
    {
      "cell_type": "markdown",
      "metadata": {
        "id": "view-in-github",
        "colab_type": "text"
      },
      "source": [
        "<a href=\"https://colab.research.google.com/github/abhinav371/python-practice/blob/Module-1/Conversion_of_data_types.ipynb\" target=\"_parent\"><img src=\"https://colab.research.google.com/assets/colab-badge.svg\" alt=\"Open In Colab\"/></a>"
      ]
    },
    {
      "cell_type": "markdown",
      "id": "b2a9eece",
      "metadata": {
        "id": "b2a9eece"
      },
      "source": [
        "# Data types in python"
      ]
    },
    {
      "cell_type": "markdown",
      "id": "dbb41849",
      "metadata": {
        "id": "dbb41849"
      },
      "source": [
        "# Converting int to String, Float, Booleean, Complex"
      ]
    },
    {
      "cell_type": "code",
      "execution_count": null,
      "id": "598472e6",
      "metadata": {
        "id": "598472e6",
        "outputId": "061a7954-2c9c-42b1-dc63-f10121618a76"
      },
      "outputs": [
        {
          "name": "stdout",
          "output_type": "stream",
          "text": [
            "10\n",
            "<class 'int'>\n",
            "10\n",
            "<class 'str'>\n",
            "10.0\n",
            "<class 'float'>\n",
            "True\n",
            "<class 'bool'>\n",
            "(10+0j)\n",
            "<class 'complex'>\n"
          ]
        }
      ],
      "source": [
        "a=10\n",
        "print(a)\n",
        "print(type(a))\n",
        "b=str(a)\n",
        "print(b)\n",
        "print(type(b))\n",
        "c=float(a)\n",
        "print(c)\n",
        "print(type(c))\n",
        "d=bool(a)\n",
        "print(d)\n",
        "print(type(d))\n",
        "e=complex(a)\n",
        "print(e)\n",
        "print(type(e))"
      ]
    },
    {
      "cell_type": "markdown",
      "id": "6e1d4e30",
      "metadata": {
        "id": "6e1d4e30"
      },
      "source": [
        "# # Converting String to Int, Float, Booleean, Complex"
      ]
    },
    {
      "cell_type": "code",
      "execution_count": null,
      "id": "efdfe158",
      "metadata": {
        "id": "efdfe158",
        "outputId": "136d9cfe-6656-4f14-dcda-69992b9d66b7"
      },
      "outputs": [
        {
          "name": "stdout",
          "output_type": "stream",
          "text": [
            "10\n",
            "<class 'str'>\n",
            "10\n",
            "<class 'int'>\n",
            "10.0\n",
            "<class 'float'>\n",
            "True\n",
            "<class 'bool'>\n",
            "(10+0j)\n",
            "<class 'complex'>\n"
          ]
        }
      ],
      "source": [
        "a='10'\n",
        "print(a)\n",
        "print(type(a))\n",
        "b=int(a)\n",
        "print(b)\n",
        "print(type(b))\n",
        "# cant convert alphabets into digits,instead of alphabets give digits 0-9\n",
        "c=float(a)\n",
        "print(c)\n",
        "print(type(c))\n",
        "d=bool(a)\n",
        "print(d)\n",
        "print(type(d))\n",
        "e=complex(a)\n",
        "print(e)\n",
        "print(type(e))"
      ]
    },
    {
      "cell_type": "markdown",
      "id": "45e255ac",
      "metadata": {
        "id": "45e255ac"
      },
      "source": [
        "#  Converting Float to Int, String, Booleean, Complex"
      ]
    },
    {
      "cell_type": "code",
      "execution_count": null,
      "id": "624ac657",
      "metadata": {
        "id": "624ac657",
        "outputId": "764f3039-2bab-4568-e7a2-c132941b2789"
      },
      "outputs": [
        {
          "name": "stdout",
          "output_type": "stream",
          "text": [
            "10.9\n",
            "<class 'float'>\n",
            "10\n",
            "<class 'int'>\n",
            "10.9\n",
            "<class 'str'>\n",
            "True\n",
            "<class 'bool'>\n",
            "(10.9+0j)\n",
            "<class 'complex'>\n"
          ]
        }
      ],
      "source": [
        "a=10.9\n",
        "print(a)\n",
        "print(type(a))\n",
        "b=int(a)\n",
        "print(b)\n",
        "print(type(b))\n",
        "c=str(a)\n",
        "print(c)\n",
        "print(type(c))\n",
        "d=bool(a)\n",
        "print(d)\n",
        "print(type(d))\n",
        "e=complex(a)\n",
        "print(e)\n",
        "print(type(e))"
      ]
    },
    {
      "cell_type": "markdown",
      "id": "116e0b3b",
      "metadata": {
        "id": "116e0b3b"
      },
      "source": [
        "# Converting Boolean to Int, String, Float, Complex"
      ]
    },
    {
      "cell_type": "code",
      "execution_count": null,
      "id": "9f6a1e4e",
      "metadata": {
        "id": "9f6a1e4e",
        "outputId": "fba5e37e-4cbd-4277-f6b5-fda0041f04ec"
      },
      "outputs": [
        {
          "name": "stdout",
          "output_type": "stream",
          "text": [
            "True\n",
            "<class 'bool'>\n",
            "1\n",
            "<class 'int'>\n",
            "True\n",
            "<class 'str'>\n",
            "1.0\n",
            "<class 'float'>\n",
            "(1+0j)\n",
            "<class 'complex'>\n"
          ]
        }
      ],
      "source": [
        "a=True\n",
        "print(a)\n",
        "print(type(a))\n",
        "b=int(a)\n",
        "print(b)\n",
        "print(type(b))\n",
        "c=str(a)\n",
        "print(c)\n",
        "print(type(c))\n",
        "d=float(a)\n",
        "print(d)\n",
        "print(type(d))\n",
        "e=complex(a)\n",
        "print(e)\n",
        "print(type(e))"
      ]
    },
    {
      "cell_type": "markdown",
      "id": "2c59eb18",
      "metadata": {
        "id": "2c59eb18"
      },
      "source": [
        "# Converting Complex to Int, String, Float, Boolean"
      ]
    },
    {
      "cell_type": "code",
      "execution_count": null,
      "id": "670bbb5e",
      "metadata": {
        "id": "670bbb5e",
        "outputId": "5dd83d34-408d-49e9-cabf-433191d4741c"
      },
      "outputs": [
        {
          "name": "stdout",
          "output_type": "stream",
          "text": [
            "(10+0j)\n",
            "<class 'complex'>\n",
            "(10+0j)\n",
            "<class 'str'>\n",
            "True\n",
            "<class 'bool'>\n"
          ]
        }
      ],
      "source": [
        "a=(10+0j)\n",
        "print(a)\n",
        "print(type(a))\n",
        "#b=int(a)\n",
        "#print(b)\n",
        "#print(type(b))\n",
        "# cant convert complex into int\n",
        "c=str(a)\n",
        "print(c)\n",
        "print(type(c))\n",
        "#d=float(a)\n",
        "#print(d)\n",
        "#print(type(d))\n",
        "#cant convert complex to float\n",
        "d=bool(a)\n",
        "print(d)\n",
        "print(type(d))\n",
        "\n"
      ]
    },
    {
      "cell_type": "code",
      "execution_count": null,
      "id": "d478391c",
      "metadata": {
        "id": "d478391c"
      },
      "outputs": [],
      "source": [
        ""
      ]
    }
  ],
  "metadata": {
    "kernelspec": {
      "display_name": "Python 3 (ipykernel)",
      "language": "python",
      "name": "python3"
    },
    "language_info": {
      "codemirror_mode": {
        "name": "ipython",
        "version": 3
      },
      "file_extension": ".py",
      "mimetype": "text/x-python",
      "name": "python",
      "nbconvert_exporter": "python",
      "pygments_lexer": "ipython3",
      "version": "3.9.7"
    },
    "colab": {
      "name": "Conversion of data types.ipynb",
      "provenance": [],
      "include_colab_link": true
    }
  },
  "nbformat": 4,
  "nbformat_minor": 5
}