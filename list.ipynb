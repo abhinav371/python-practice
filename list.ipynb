{
  "nbformat": 4,
  "nbformat_minor": 0,
  "metadata": {
    "colab": {
      "name": "list.ipynb",
      "provenance": [],
      "authorship_tag": "ABX9TyNqtcagE3NHl1aIpzlM4Sni",
      "include_colab_link": true
    },
    "kernelspec": {
      "name": "python3",
      "display_name": "Python 3"
    },
    "language_info": {
      "name": "python"
    }
  },
  "cells": [
    {
      "cell_type": "markdown",
      "metadata": {
        "id": "view-in-github",
        "colab_type": "text"
      },
      "source": [
        "<a href=\"https://colab.research.google.com/github/abhinav371/python-practice/blob/Module-1/list.ipynb\" target=\"_parent\"><img src=\"https://colab.research.google.com/assets/colab-badge.svg\" alt=\"Open In Colab\"/></a>"
      ]
    },
    {
      "cell_type": "code",
      "execution_count": 51,
      "metadata": {
        "colab": {
          "base_uri": "https://localhost:8080/"
        },
        "id": "PejycAQs4ZAt",
        "outputId": "cae922dd-bb16-45c5-e9d9-00c4b9248894"
      },
      "outputs": [
        {
          "output_type": "stream",
          "name": "stdout",
          "text": [
            "kiwi\n",
            "['apple', 'banana', 'kiwi', 'mango', 'orange']\n",
            "['apple', 'banana', 'kiwi', 'orange']\n",
            "4\n",
            "['apple', 'banana', 'kiwi', 'orange']\n"
          ]
        }
      ],
      "source": [
        "fruit=['apple','banana','mango','kiwi','orange']\n",
        "print(fruit[3])\n",
        "fruit.sort()\n",
        "print(fruit)\n",
        "fruit.pop(3)\n",
        "print(fruit)\n",
        "print(len(fruit))\n",
        "print(fruit)"
      ]
    },
    {
      "cell_type": "code",
      "source": [
        "a=[1,6,69,42,30]\n",
        "b=[1,6,'hi','hmm']\n",
        "print(a[0:3])\n",
        "print(a[0:4]+b[0:4])\n",
        "a.insert(2,'kk')\n",
        "print(a)\n",
        "(a.reverse())\n",
        "print(a)"
      ],
      "metadata": {
        "colab": {
          "base_uri": "https://localhost:8080/"
        },
        "id": "aUN3_iUA6pWE",
        "outputId": "351f9df9-9a56-4d78-8fb3-8d5752c7de35"
      },
      "execution_count": 52,
      "outputs": [
        {
          "output_type": "stream",
          "name": "stdout",
          "text": [
            "[1, 6, 69]\n",
            "[1, 6, 69, 42, 1, 6, 'hi', 'hmm']\n",
            "[1, 6, 'kk', 69, 42, 30]\n",
            "[30, 42, 69, 'kk', 6, 1]\n"
          ]
        }
      ]
    },
    {
      "cell_type": "code",
      "source": [
        ""
      ],
      "metadata": {
        "id": "6aG0Ms6RNIBA"
      },
      "execution_count": null,
      "outputs": []
    }
  ]
}