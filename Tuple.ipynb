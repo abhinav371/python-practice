{
  "nbformat": 4,
  "nbformat_minor": 0,
  "metadata": {
    "colab": {
      "name": "Tuple.ipynb",
      "provenance": [],
      "authorship_tag": "ABX9TyOK+HuTo8KyY6G9zqgh9u/Z",
      "include_colab_link": true
    },
    "kernelspec": {
      "name": "python3",
      "display_name": "Python 3"
    },
    "language_info": {
      "name": "python"
    }
  },
  "cells": [
    {
      "cell_type": "markdown",
      "metadata": {
        "id": "view-in-github",
        "colab_type": "text"
      },
      "source": [
        "<a href=\"https://colab.research.google.com/github/abhinav371/python-practice/blob/Module-1/Tuple.ipynb\" target=\"_parent\"><img src=\"https://colab.research.google.com/assets/colab-badge.svg\" alt=\"Open In Colab\"/></a>"
      ]
    },
    {
      "cell_type": "code",
      "execution_count": 26,
      "metadata": {
        "id": "aV-_sVbvOQTv",
        "colab": {
          "base_uri": "https://localhost:8080/"
        },
        "outputId": "75c4e547-f54d-4b3e-b41a-ee6684f5e9f2"
      },
      "outputs": [
        {
          "output_type": "stream",
          "name": "stdout",
          "text": [
            "('virat', 'dhoni', 'rohit')\n",
            "3\n",
            "<class 'str'>\n",
            "<class 'tuple'>\n",
            "virat\n",
            "virat\n",
            "('dhoni',)\n",
            "('suzuki', 'bmw', 'tata', 'ferrari', 'toyota')\n",
            "('audi', 'ford', 'suzuki', 'bmw')\n",
            "['audi', 'ford', 'suzuki', 'bmw', 'tata', 'tesla', 'toyota']\n",
            "['audi', 'ford', 'suzuki', 'bmw', 'tata', 'ferrari', 'toyota', 'tesla']\n"
          ]
        }
      ],
      "source": [
        "a=('virat','dhoni','rohit')\n",
        "print(a)\n",
        "print(len(a))\n",
        "b=('cherry')\n",
        "print(type(b))\n",
        "print(type(a))\n",
        "print(a[0])\n",
        "print(a[-3])\n",
        "print(a[1:2])\n",
        "c=('audi','ford','suzuki','bmw','tata','ferrari','toyota')\n",
        "print(c[2:])\n",
        "print(c[:4])\n",
        "d=list(c)\n",
        "d[5]='tesla'\n",
        "print(d)\n",
        "e=list(c)\n",
        "e.append('tesla')\n",
        "print(e)\n"
      ]
    },
    {
      "cell_type": "code",
      "source": [
        " "
      ],
      "metadata": {
        "id": "CaYwXRp3nVWM"
      },
      "execution_count": null,
      "outputs": []
    }
  ]
}