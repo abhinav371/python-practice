{
  "cells": [
    {
      "cell_type": "markdown",
      "metadata": {
        "id": "view-in-github",
        "colab_type": "text"
      },
      "source": [
        "<a href=\"https://colab.research.google.com/github/abhinav371/python-practice/blob/Module-1/dictionaries.ipynb\" target=\"_parent\"><img src=\"https://colab.research.google.com/assets/colab-badge.svg\" alt=\"Open In Colab\"/></a>"
      ]
    },
    {
      "cell_type": "code",
      "execution_count": 18,
      "metadata": {
        "id": "yJQjg28USwZR",
        "colab": {
          "base_uri": "https://localhost:8080/"
        },
        "outputId": "f4492b41-0105-4b64-c273-70e143d193b2"
      },
      "outputs": [
        {
          "output_type": "stream",
          "name": "stdout",
          "text": [
            "{'name': 'ab', 'age': 17, 'topper': False, 'marks': {25, 14, 87}, 'hobbies': {'playing', 'reading'}}\n",
            "5\n",
            "<class 'dict'>\n",
            "None\n"
          ]
        }
      ],
      "source": [
        "student={\n",
        "    'name':'ab',\n",
        "    'age': 17,\n",
        "    'topper':False,\n",
        "    'marks':{14,25,87},\n",
        "    'hobbies':{'reading','playing'}\n",
        "}\n",
        "print(student)\n",
        "print(len(student))\n",
        "print(type(student))\n",
        "y=student.update({'age': 19})\n",
        "print(y)"
      ]
    },
    {
      "cell_type": "code",
      "source": [
        "placement={\n",
        "    'name':input('Name : '),\n",
        "    'age':input('age : '),\n",
        "    'cgpa':input('cgpa : '),\n",
        "    'phone number':input(\"ph no : \"),\n",
        "    'section':input(\"section : \"),\n",
        "}\n",
        "print(placement['cgpa'])\n",
        "x=placement.keys()\n",
        "print(x)\n",
        "y=placement.update({'age' : input(\"enter age : \")})\n",
        "print(y)"
      ],
      "metadata": {
        "colab": {
          "base_uri": "https://localhost:8080/"
        },
        "id": "ZsQkPC0RgFDL",
        "outputId": "6671c7af-7e89-416f-e1a4-98067b5eb8f2"
      },
      "execution_count": 19,
      "outputs": [
        {
          "output_type": "stream",
          "name": "stdout",
          "text": [
            "Name : wsf\n",
            "age : 45\n",
            "cgpa : 9.0\n",
            "ph no : 7887478658498\n",
            "section : 5\n",
            "9.0\n",
            "dict_keys(['name', 'age', 'cgpa', 'phone number', 'section'])\n",
            "enter age : 58\n",
            "None\n"
          ]
        }
      ]
    },
    {
      "cell_type": "code",
      "source": [
        ""
      ],
      "metadata": {
        "id": "24w4ULwphWTk"
      },
      "execution_count": null,
      "outputs": []
    }
  ],
  "metadata": {
    "colab": {
      "name": "dictionaries.ipynb",
      "provenance": [],
      "authorship_tag": "ABX9TyOpwHbT7mFRQVJcq/FY+Qq3",
      "include_colab_link": true
    },
    "kernelspec": {
      "display_name": "Python 3",
      "name": "python3"
    },
    "language_info": {
      "name": "python"
    }
  },
  "nbformat": 4,
  "nbformat_minor": 0
}