{
  "nbformat": 4,
  "nbformat_minor": 0,
  "metadata": {
    "colab": {
      "name": "quiz1.ipynb",
      "provenance": [],
      "authorship_tag": "ABX9TyOH9mEv3D6BMw9v2EYcbuUr",
      "include_colab_link": true
    },
    "kernelspec": {
      "name": "python3",
      "display_name": "Python 3"
    },
    "language_info": {
      "name": "python"
    }
  },
  "cells": [
    {
      "cell_type": "markdown",
      "metadata": {
        "id": "view-in-github",
        "colab_type": "text"
      },
      "source": [
        "<a href=\"https://colab.research.google.com/github/abhinav371/python-practice/blob/Module-1/quiz1.ipynb\" target=\"_parent\"><img src=\"https://colab.research.google.com/assets/colab-badge.svg\" alt=\"Open In Colab\"/></a>"
      ]
    },
    {
      "cell_type": "code",
      "execution_count": 1,
      "metadata": {
        "colab": {
          "base_uri": "https://localhost:8080/"
        },
        "id": "mLmTVQJ2g9eV",
        "outputId": "487307f2-e628-4852-a4f9-e49f6b92247d"
      },
      "outputs": [
        {
          "output_type": "stream",
          "name": "stdout",
          "text": [
            "Result = 3 2\n"
          ]
        }
      ],
      "source": [
        "#Write a program of swapping of two numbers \n",
        "a = 2\n",
        "b = 3\n",
        "c = b\n",
        "b = a\n",
        "a = c\n",
        "print(f\"Result = {a} {b}\")"
      ]
    },
    {
      "cell_type": "code",
      "source": [
        "#Find out the square root of the number\n",
        "import math\n",
        "a = 4\n",
        "b=math.sqrt(a)\n",
        "print(b)"
      ],
      "metadata": {
        "colab": {
          "base_uri": "https://localhost:8080/"
        },
        "id": "4_nIf1cdhOcl",
        "outputId": "01af3c5e-ab7c-438d-9e55-b5c3f963240e"
      },
      "execution_count": 2,
      "outputs": [
        {
          "output_type": "stream",
          "name": "stdout",
          "text": [
            "2.0\n"
          ]
        }
      ]
    },
    {
      "cell_type": "code",
      "source": [
        "#Find out the Largest of three numbers from the give input\n",
        "a = 5\n",
        "b = 3\n",
        "c = 2\n",
        "if (a>b and a>c):\n",
        "  print (a)\n",
        "elif (b>a and b>c):\n",
        "  print(b)\n",
        "else:\n",
        "  print(c)"
      ],
      "metadata": {
        "colab": {
          "base_uri": "https://localhost:8080/"
        },
        "id": "oK6Y81UIhZMD",
        "outputId": "ff0ad21c-e981-45f6-c1fb-f63a989c9b3c"
      },
      "execution_count": 3,
      "outputs": [
        {
          "output_type": "stream",
          "name": "stdout",
          "text": [
            "5\n"
          ]
        }
      ]
    },
    {
      "cell_type": "code",
      "source": [
        "# Add Black color to the given list in the 4th place.\n",
        "Rainbow=['Red','Orange','Yellow','Green']\n",
        "Rainbow.insert(3,('Black'))\n",
        "print(Rainbow)"
      ],
      "metadata": {
        "colab": {
          "base_uri": "https://localhost:8080/"
        },
        "id": "smf34YGXhxZD",
        "outputId": "fde7858e-5d40-42ca-9674-1179c1fd484b"
      },
      "execution_count": 17,
      "outputs": [
        {
          "output_type": "stream",
          "name": "stdout",
          "text": [
            "['Red', 'Orange', 'Yellow', 'Black', 'Green']\n"
          ]
        }
      ]
    },
    {
      "cell_type": "code",
      "source": [
        ""
      ],
      "metadata": {
        "id": "3NWPqXO7iSj5"
      },
      "execution_count": null,
      "outputs": []
    }
  ]
}