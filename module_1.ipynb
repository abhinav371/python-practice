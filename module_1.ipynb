{
  "nbformat": 4,
  "nbformat_minor": 0,
  "metadata": {
    "colab": {
      "name": "module 1.ipynb",
      "provenance": [],
      "authorship_tag": "ABX9TyPbqeUGBuyoUIU7IHZR/9Ew",
      "include_colab_link": true
    },
    "kernelspec": {
      "name": "python3",
      "display_name": "Python 3"
    },
    "language_info": {
      "name": "python"
    }
  },
  "cells": [
    {
      "cell_type": "markdown",
      "metadata": {
        "id": "view-in-github",
        "colab_type": "text"
      },
      "source": [
        "<a href=\"https://colab.research.google.com/github/abhinav371/python-practice/blob/Module-1/module_1.ipynb\" target=\"_parent\"><img src=\"https://colab.research.google.com/assets/colab-badge.svg\" alt=\"Open In Colab\"/></a>"
      ]
    },
    {
      "cell_type": "markdown",
      "source": [
        "#Accept input from user and store it in variable and print the value"
      ],
      "metadata": {
        "id": "x4MRwVC1Whgy"
      }
    },
    {
      "cell_type": "code",
      "source": [
        "a=int(input('enter a number'))\n",
        "print(a)"
      ],
      "metadata": {
        "colab": {
          "base_uri": "https://localhost:8080/"
        },
        "id": "dF7tNeATWqkI",
        "outputId": "b51e29ef-dca2-4a64-a896-9aa7b4e342de"
      },
      "execution_count": 1,
      "outputs": [
        {
          "output_type": "stream",
          "name": "stdout",
          "text": [
            "enter a number3\n",
            "3\n"
          ]
        }
      ]
    },
    {
      "cell_type": "markdown",
      "source": [
        "#Use of print statements and use of (.format )for printing different data types"
      ],
      "metadata": {
        "id": "a7u2nHfLW8Nw"
      }
    },
    {
      "cell_type": "code",
      "source": [
        "#Accept input from user and store it in variable and print the value\n",
        "a=int(input('enter a number : '))\n",
        "print(a)"
      ],
      "metadata": {
        "id": "mPqRacRpW_4Q"
      },
      "execution_count": null,
      "outputs": []
    },
    {
      "cell_type": "code",
      "source": [
        "#Use of print statements and use of (.format )for printing different data types\n",
        "a=int(3)\n",
        "b=float(3)\n",
        "c=bool(3)\n",
        "d=str(3)\n",
        "print(a)\n",
        "print(b)\n",
        "print(c)\n",
        "print(d)"
      ],
      "metadata": {
        "id": "mKcgo9Znn0EQ"
      },
      "execution_count": null,
      "outputs": []
    },
    {
      "cell_type": "code",
      "source": [
        "#Take 2 numbers as user input and add, multiply, divide, subtract, remainder and print the output (Same operations on floating point input as well)\n",
        "a=float(4)\n",
        "b=float(6)\n",
        "add=a+b\n",
        "print(add)\n",
        "sub=b-a\n",
        "print(sub)\n",
        "multiply=a*b\n",
        "print(multiply)\n",
        "divide=b/a\n",
        "print(divide)\n",
        "rem=b%a\n",
        "print(rem)"
      ],
      "metadata": {
        "id": "EQUUWjVDn36m"
      },
      "execution_count": null,
      "outputs": []
    },
    {
      "cell_type": "code",
      "source": [
        "#Conversion of one unit to another (such as hours to minutes, miles to km and etc)\n",
        "hour=int(input('enter hour : '))\n",
        "min=hour*60\n",
        "print(min)\n",
        "sec=min*60\n",
        "print(sec)"
      ],
      "metadata": {
        "id": "cWD_s6ien7d-"
      },
      "execution_count": null,
      "outputs": []
    },
    {
      "cell_type": "code",
      "source": [
        "##Usage of mathematical functions in python like math.ceil, floor, fabs, fmod, trunc,pow, sqrt etc.\n",
        "import math\n",
        "a=math.ceil(4.1)\n",
        "print(a)\n",
        "b=math.floor(4.7)\n",
        "print(b)\n",
        "c=math.fabs(-4.6)\n",
        "print(c)\n",
        "d=math.fmod(20,3)\n",
        "print(d)\n",
        "e=math.trunc(4.7)\n",
        "print(e)\n",
        "f=math.pow(5,2)\n",
        "print(f)\n",
        "g=math.sqrt(4)\n",
        "print(g)"
      ],
      "metadata": {
        "id": "Y8dGpuzyn-9H"
      },
      "execution_count": null,
      "outputs": []
    },
    {
      "cell_type": "code",
      "source": [
        "#Building a mathematical calculator that can perform operations according to user input.Use decision making statement.\n",
        "a=int(input(\"enter a number 1 : \"))\n",
        "b=int(input(\"enter number 2 : \")) \n",
        "c=str(input(\"enter mathemaical function : \"))\n",
        "if c=='+':\n",
        "    print(a+b)\n",
        "elif c=='-':\n",
        "    print(a-b)\n",
        "elif c=='*':\n",
        "    print(a*b)\n",
        "else:   \n",
        "    print(a/b)"
      ],
      "metadata": {
        "id": "dQja9Sk9oD_e"
      },
      "execution_count": null,
      "outputs": []
    },
    {
      "cell_type": "code",
      "source": [
        "#Accepting 5 different subject marks from user and displaying the grade of the student.\n",
        "a=int(input(\"enter marks of sub1 : \"))\n",
        "b=int(input(\"enter marks of sub2 : \"))\n",
        "c=int(input(\"enter marks of sub3 : \"))\n",
        "d=int(input(\"enter marks of sub4 : \"))\n",
        "e=int(input(\"enter marks of sub5 : \"))\n",
        "f=(a+b+c+d+e)/5\n",
        "print(f)\n",
        "if f>=90:\n",
        "    print(\"a grade\")\n",
        "elif f>=80:\n",
        "    print(\"b grade\")\n",
        "elif f>=70:\n",
        "    print(\"c grade\")\n",
        "elif f>=60:\n",
        "    print(\"d grade\")\n",
        "elif f>=50:\n",
        "    print(\"e grade\")\n",
        "else:\n",
        "    print(\"fail\")"
      ],
      "metadata": {
        "id": "nS5yeLeRoHS3"
      },
      "execution_count": null,
      "outputs": []
    },
    {
      "cell_type": "code",
      "source": [
        ""
      ],
      "metadata": {
        "id": "nT-GXrYroK-W"
      },
      "execution_count": null,
      "outputs": []
    }
  ]
}