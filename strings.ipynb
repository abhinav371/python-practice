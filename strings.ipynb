{
  "nbformat": 4,
  "nbformat_minor": 0,
  "metadata": {
    "colab": {
      "name": "strings.ipynb",
      "provenance": [],
      "authorship_tag": "ABX9TyMeyQPe1e/PCOwuCfVv0g1w",
      "include_colab_link": true
    },
    "kernelspec": {
      "name": "python3",
      "display_name": "Python 3"
    },
    "language_info": {
      "name": "python"
    }
  },
  "cells": [
    {
      "cell_type": "markdown",
      "metadata": {
        "id": "view-in-github",
        "colab_type": "text"
      },
      "source": [
        "<a href=\"https://colab.research.google.com/github/abhinav371/python-practice/blob/Module-1/strings.ipynb\" target=\"_parent\"><img src=\"https://colab.research.google.com/assets/colab-badge.svg\" alt=\"Open In Colab\"/></a>"
      ]
    },
    {
      "cell_type": "code",
      "execution_count": null,
      "metadata": {
        "id": "dpCz1ezo3xBQ",
        "colab": {
          "base_uri": "https://localhost:8080/"
        },
        "outputId": "b5522230-312d-4827-e2f2-4e12d616ea14"
      },
      "outputs": [
        {
          "output_type": "stream",
          "name": "stdout",
          "text": [
            "gopalapatnam to gitam\n",
            "21\n"
          ]
        }
      ],
      "source": [
        "#length of a string\n",
        "s='gopalapatnam to gitam'\n",
        "print(s)\n",
        "print(len(s))"
      ]
    },
    {
      "cell_type": "code",
      "source": [
        "#checking a string\n",
        "t='gopalapatnam to gitam'\n",
        "print('A' in t)"
      ],
      "metadata": {
        "colab": {
          "base_uri": "https://localhost:8080/"
        },
        "id": "rAWwF4Wc-M78",
        "outputId": "49e3a84a-232e-4653-b3ee-19ad58e0c756"
      },
      "execution_count": null,
      "outputs": [
        {
          "output_type": "stream",
          "name": "stdout",
          "text": [
            "False\n"
          ]
        }
      ]
    },
    {
      "cell_type": "code",
      "source": [
        "#if not\n",
        "t='gopalapatnam to gitam'\n",
        "print(\"to\" not in t,\"and\" not in t)\n",
        "print(\"and\" not in t)"
      ],
      "metadata": {
        "colab": {
          "base_uri": "https://localhost:8080/"
        },
        "id": "SIbJp5wbBMiO",
        "outputId": "cd319d38-2520-42f5-8e50-387fed4cfbd7"
      },
      "execution_count": null,
      "outputs": [
        {
          "output_type": "stream",
          "name": "stdout",
          "text": [
            "False True\n",
            "True\n"
          ]
        }
      ]
    },
    {
      "cell_type": "code",
      "source": [
        "#slicing string\n",
        "a='kushwanth went to lunch'\n",
        "print(a[-5:-2])"
      ],
      "metadata": {
        "colab": {
          "base_uri": "https://localhost:8080/"
        },
        "id": "pgaKxNviCsL2",
        "outputId": "edbd6f1a-c312-45b5-8996-0ec72b6247ab"
      },
      "execution_count": null,
      "outputs": [
        {
          "output_type": "stream",
          "name": "stdout",
          "text": [
            "lun\n"
          ]
        }
      ]
    },
    {
      "cell_type": "markdown",
      "source": [
        ""
      ],
      "metadata": {
        "id": "lBecFs3o_78F"
      }
    },
    {
      "cell_type": "code",
      "source": [
        "#modifying strings\n",
        "a='Kushwanth went to lunch'\n",
        "print(a.upper())\n",
        "print(a.lower())\n",
        "print(a.strip())\n",
        "print(a.replace(\"to\",\"for\"))\n",
        "print(a.capitalize())\n",
        "print(a.split(\"to\"))"
      ],
      "metadata": {
        "colab": {
          "base_uri": "https://localhost:8080/"
        },
        "id": "99tdfcv4FtyP",
        "outputId": "68647866-bab3-4d24-d5c5-3c3a386098fe"
      },
      "execution_count": null,
      "outputs": [
        {
          "output_type": "stream",
          "name": "stdout",
          "text": [
            "KUSHWANTH WENT TO LUNCH\n",
            "kushwanth went to lunch\n",
            "Kushwanth went to lunch\n",
            "Kushwanth went for lunch\n",
            "Kushwanth went to lunch\n",
            "['Kushwanth went ', ' lunch']\n"
          ]
        }
      ]
    },
    {
      "cell_type": "code",
      "source": [
        "#string concatenation\n",
        "a=\"kushwanth\"\n",
        "b=\" lunch boy\"\n",
        "c = a + b\n",
        "print(c)\n",
        "d = a+\" is\"+b\n",
        "print(d)"
      ],
      "metadata": {
        "colab": {
          "base_uri": "https://localhost:8080/"
        },
        "id": "u4c2KOJ2J_pd",
        "outputId": "3e910153-5fc7-4b91-aabd-13967f4c809d"
      },
      "execution_count": null,
      "outputs": [
        {
          "output_type": "stream",
          "name": "stdout",
          "text": [
            "kushwanth lunch boy\n",
            "kushwanth is lunch boy\n"
          ]
        }
      ]
    },
    {
      "cell_type": "code",
      "source": [
        "#string format\n",
        "a = 17\n",
        "t = \"my name is abhi and i am {}\"\n",
        "print(t.format(a))"
      ],
      "metadata": {
        "colab": {
          "base_uri": "https://localhost:8080/"
        },
        "id": "Aby1oG1SGMfD",
        "outputId": "cea50962-5650-4164-da0f-86c6ae7bb35a"
      },
      "execution_count": null,
      "outputs": [
        {
          "output_type": "stream",
          "name": "stdout",
          "text": [
            "my name is abhi and i am 17\n"
          ]
        }
      ]
    },
    {
      "cell_type": "code",
      "source": [
        "#escape characters\n",
        "t=\"kushwanth is a \\lunch\\ boy\"\n",
        "print(t)"
      ],
      "metadata": {
        "colab": {
          "base_uri": "https://localhost:8080/"
        },
        "id": "LbG0v9gVOFwT",
        "outputId": "52a1a655-53ef-4cd7-cbeb-2ff1e73d8441"
      },
      "execution_count": null,
      "outputs": [
        {
          "output_type": "stream",
          "name": "stdout",
          "text": [
            "kushwanth is a \\lunch\\ boy\n"
          ]
        }
      ]
    },
    {
      "cell_type": "code",
      "source": [
        "#string methods\n"
      ],
      "metadata": {
        "id": "Qy-ofo3MRizz"
      },
      "execution_count": null,
      "outputs": []
    }
  ]
}